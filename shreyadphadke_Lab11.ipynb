{
  "nbformat": 4,
  "nbformat_minor": 0,
  "metadata": {
    "colab": {
      "provenance": []
    },
    "kernelspec": {
      "name": "python3",
      "display_name": "Python 3"
    },
    "language_info": {
      "name": "python"
    }
  },
  "cells": [
    {
      "cell_type": "code",
      "execution_count": 1,
      "metadata": {
        "colab": {
          "base_uri": "https://localhost:8080/"
        },
        "id": "RVUjdWqt6AvK",
        "outputId": "f0a8e24c-4c69-4cbe-acf0-fcbb5db13d7f"
      },
      "outputs": [
        {
          "output_type": "stream",
          "name": "stdout",
          "text": [
            "Setup complete! Tables available:\n",
            "shape: (5, 1)\n",
            "┌──────────┐\n",
            "│ name     │\n",
            "│ ---      │\n",
            "│ str      │\n",
            "╞══════════╡\n",
            "│ airlines │\n",
            "│ airports │\n",
            "│ flights  │\n",
            "│ planes   │\n",
            "│ weather  │\n",
            "└──────────┘\n",
            "Weather: ['origin', 'year', 'month', 'day', 'hour', 'temp', 'dewp', 'humid', 'wind_dir', 'wind_speed', 'wind_gust', 'precip', 'pressure', 'visib', 'time_hour']\n",
            "Flights: ['year', 'month', 'day', 'dep_time', 'sched_dep_time', 'dep_delay', 'arr_time', 'sched_arr_time', 'arr_delay', 'carrier', 'flight', 'tailnum', 'origin', 'dest', 'air_time', 'distance', 'hour', 'minute', 'time_hour']\n",
            "Planes: ['tailnum', 'year', 'type', 'manufacturer', 'model', 'engines', 'seats', 'speed', 'engine']\n",
            "Airlines: ['carrier', 'name']\n",
            "Airports: ['faa', 'name', 'lat', 'lon', 'alt', 'tz', 'dst', 'tzone']\n"
          ]
        },
        {
          "output_type": "stream",
          "name": "stderr",
          "text": [
            "/tmp/ipython-input-1938067338.py:14: DeprecationWarning: The argument `eager_execution` for `SQLContext.__init__` is deprecated. It has been renamed to `eager`.\n",
            "  ctx = pl.SQLContext(\n"
          ]
        }
      ],
      "source": [
        "import polars as pl\n",
        "\n",
        "# Load data\n",
        "airlines = pl.read_csv('https://raw.githubusercontent.com/philhetzel/opan5510-class11/refs/heads/main/data/nyc_airlines.csv')\n",
        "airports = pl.read_csv('https://raw.githubusercontent.com/philhetzel/opan5510-class11/refs/heads/main/data/nyc_airports.csv', null_values=[\"NA\"])\n",
        "flights = pl.read_csv('https://raw.githubusercontent.com/philhetzel/opan5510-class11/refs/heads/main/data/nyc_flights.csv', null_values=[\"NA\"])\n",
        "planes = pl.read_csv('https://raw.githubusercontent.com/philhetzel/opan5510-class11/refs/heads/main/data/nyc_planes.csv', null_values=[\"NA\"])\n",
        "weather = pl.read_csv('https://raw.githubusercontent.com/philhetzel/opan5510-class11/refs/heads/main/data/nyc_weather.csv', null_values=[\"NA\"], infer_schema_length=10000)\n",
        "\n",
        "flights = flights.with_columns(pl.col(\"time_hour\").str.strptime(pl.Datetime))\n",
        "weather = weather.with_columns(pl.col(\"time_hour\").str.strptime(pl.Datetime))\n",
        "\n",
        "# Create SQL context\n",
        "ctx = pl.SQLContext(\n",
        "    airlines=airlines,\n",
        "    airports=airports,\n",
        "    flights=flights,\n",
        "    planes=planes,\n",
        "    weather=weather,\n",
        "    eager_execution=True\n",
        ")\n",
        "\n",
        "print(\"Setup complete! Tables available:\")\n",
        "print(ctx.execute(\"SHOW TABLES\"))\n",
        "print(\"Weather:\", weather.columns)\n",
        "print(\"Flights:\", flights.columns)\n",
        "print(\"Planes:\", planes.columns)\n",
        "print(\"Airlines:\", airlines.columns)\n",
        "print(\"Airports:\", airports.columns)"
      ]
    },
    {
      "cell_type": "code",
      "source": [
        "#Exercise 1.1\n",
        "result = ctx.execute(\"\"\"\n",
        "select distinct carrier\n",
        "from airlines\n",
        "\"\"\")\n",
        "\n",
        "result"
      ],
      "metadata": {
        "colab": {
          "base_uri": "https://localhost:8080/",
          "height": 438
        },
        "id": "gJcE9YJQ6bx0",
        "outputId": "e2c652bd-9c99-4c0e-c921-8cf2e6b41a4c"
      },
      "execution_count": 2,
      "outputs": [
        {
          "output_type": "execute_result",
          "data": {
            "text/plain": [
              "shape: (16, 1)\n",
              "┌─────────┐\n",
              "│ carrier │\n",
              "│ ---     │\n",
              "│ str     │\n",
              "╞═════════╡\n",
              "│ 9E      │\n",
              "│ AA      │\n",
              "│ AS      │\n",
              "│ B6      │\n",
              "│ DL      │\n",
              "│ …       │\n",
              "│ UA      │\n",
              "│ US      │\n",
              "│ VX      │\n",
              "│ WN      │\n",
              "│ YV      │\n",
              "└─────────┘"
            ],
            "text/html": [
              "<div><style>\n",
              ".dataframe > thead > tr,\n",
              ".dataframe > tbody > tr {\n",
              "  text-align: right;\n",
              "  white-space: pre-wrap;\n",
              "}\n",
              "</style>\n",
              "<small>shape: (16, 1)</small><table border=\"1\" class=\"dataframe\"><thead><tr><th>carrier</th></tr><tr><td>str</td></tr></thead><tbody><tr><td>&quot;9E&quot;</td></tr><tr><td>&quot;AA&quot;</td></tr><tr><td>&quot;AS&quot;</td></tr><tr><td>&quot;B6&quot;</td></tr><tr><td>&quot;DL&quot;</td></tr><tr><td>&hellip;</td></tr><tr><td>&quot;UA&quot;</td></tr><tr><td>&quot;US&quot;</td></tr><tr><td>&quot;VX&quot;</td></tr><tr><td>&quot;WN&quot;</td></tr><tr><td>&quot;YV&quot;</td></tr></tbody></table></div>"
            ]
          },
          "metadata": {},
          "execution_count": 2
        }
      ]
    },
    {
      "cell_type": "code",
      "source": [
        "#Exercise 1.2\n",
        "result = ctx.execute(\"\"\"\n",
        "select dest, count (*) as count\n",
        "from flights\n",
        "group by dest\n",
        "order by count desc\n",
        "limit 10\n",
        "\"\"\")\n",
        "\n",
        "result"
      ],
      "metadata": {
        "colab": {
          "base_uri": "https://localhost:8080/",
          "height": 407
        },
        "id": "2D8fNYZq7HBh",
        "outputId": "a97636cb-e36d-47f5-c1a9-2f64e96bee3c"
      },
      "execution_count": 3,
      "outputs": [
        {
          "output_type": "execute_result",
          "data": {
            "text/plain": [
              "shape: (10, 2)\n",
              "┌──────┬───────┐\n",
              "│ dest ┆ count │\n",
              "│ ---  ┆ ---   │\n",
              "│ str  ┆ u32   │\n",
              "╞══════╪═══════╡\n",
              "│ ORD  ┆ 17283 │\n",
              "│ ATL  ┆ 17215 │\n",
              "│ LAX  ┆ 16174 │\n",
              "│ BOS  ┆ 15508 │\n",
              "│ MCO  ┆ 14082 │\n",
              "│ CLT  ┆ 14064 │\n",
              "│ SFO  ┆ 13331 │\n",
              "│ FLL  ┆ 12055 │\n",
              "│ MIA  ┆ 11728 │\n",
              "│ DCA  ┆ 9705  │\n",
              "└──────┴───────┘"
            ],
            "text/html": [
              "<div><style>\n",
              ".dataframe > thead > tr,\n",
              ".dataframe > tbody > tr {\n",
              "  text-align: right;\n",
              "  white-space: pre-wrap;\n",
              "}\n",
              "</style>\n",
              "<small>shape: (10, 2)</small><table border=\"1\" class=\"dataframe\"><thead><tr><th>dest</th><th>count</th></tr><tr><td>str</td><td>u32</td></tr></thead><tbody><tr><td>&quot;ORD&quot;</td><td>17283</td></tr><tr><td>&quot;ATL&quot;</td><td>17215</td></tr><tr><td>&quot;LAX&quot;</td><td>16174</td></tr><tr><td>&quot;BOS&quot;</td><td>15508</td></tr><tr><td>&quot;MCO&quot;</td><td>14082</td></tr><tr><td>&quot;CLT&quot;</td><td>14064</td></tr><tr><td>&quot;SFO&quot;</td><td>13331</td></tr><tr><td>&quot;FLL&quot;</td><td>12055</td></tr><tr><td>&quot;MIA&quot;</td><td>11728</td></tr><tr><td>&quot;DCA&quot;</td><td>9705</td></tr></tbody></table></div>"
            ]
          },
          "metadata": {},
          "execution_count": 3
        }
      ]
    },
    {
      "cell_type": "code",
      "source": [
        "#Exercise 1.3\n",
        "result = ctx.execute(\"\"\"\n",
        "select *\n",
        "from flights\n",
        "where dep_delay > 120\n",
        "\"\"\")\n",
        "\n",
        "result"
      ],
      "metadata": {
        "colab": {
          "base_uri": "https://localhost:8080/",
          "height": 645
        },
        "id": "lnzwYjIX9Ymd",
        "outputId": "0f2a3baa-04b8-4de6-917b-34c760da23dd"
      },
      "execution_count": 4,
      "outputs": [
        {
          "output_type": "execute_result",
          "data": {
            "text/plain": [
              "shape: (9_723, 19)\n",
              "┌──────┬───────┬─────┬──────────┬───┬──────────┬──────┬────────┬─────────────────────────┐\n",
              "│ year ┆ month ┆ day ┆ dep_time ┆ … ┆ distance ┆ hour ┆ minute ┆ time_hour               │\n",
              "│ ---  ┆ ---   ┆ --- ┆ ---      ┆   ┆ ---      ┆ ---  ┆ ---    ┆ ---                     │\n",
              "│ i64  ┆ i64   ┆ i64 ┆ i64      ┆   ┆ i64      ┆ i64  ┆ i64    ┆ datetime[μs, UTC]       │\n",
              "╞══════╪═══════╪═════╪══════════╪═══╪══════════╪══════╪════════╪═════════════════════════╡\n",
              "│ 2013 ┆ 1     ┆ 1   ┆ 848      ┆ … ┆ 184      ┆ 18   ┆ 35     ┆ 2013-01-01 23:00:00 UTC │\n",
              "│ 2013 ┆ 1     ┆ 1   ┆ 957      ┆ … ┆ 200      ┆ 7    ┆ 33     ┆ 2013-01-01 12:00:00 UTC │\n",
              "│ 2013 ┆ 1     ┆ 1   ┆ 1114     ┆ … ┆ 1416     ┆ 9    ┆ 0      ┆ 2013-01-01 14:00:00 UTC │\n",
              "│ 2013 ┆ 1     ┆ 1   ┆ 1540     ┆ … ┆ 1598     ┆ 13   ┆ 38     ┆ 2013-01-01 18:00:00 UTC │\n",
              "│ 2013 ┆ 1     ┆ 1   ┆ 1815     ┆ … ┆ 1134     ┆ 13   ┆ 25     ┆ 2013-01-01 18:00:00 UTC │\n",
              "│ …    ┆ …     ┆ …   ┆ …        ┆ … ┆ …        ┆ …    ┆ …      ┆ …                       │\n",
              "│ 2013 ┆ 9     ┆ 30  ┆ 1823     ┆ … ┆ 765      ┆ 15   ┆ 45     ┆ 2013-09-30 19:00:00 UTC │\n",
              "│ 2013 ┆ 9     ┆ 30  ┆ 1951     ┆ … ┆ 708      ┆ 16   ┆ 49     ┆ 2013-09-30 20:00:00 UTC │\n",
              "│ 2013 ┆ 9     ┆ 30  ┆ 2053     ┆ … ┆ 746      ┆ 18   ┆ 15     ┆ 2013-09-30 22:00:00 UTC │\n",
              "│ 2013 ┆ 9     ┆ 30  ┆ 2159     ┆ … ┆ 301      ┆ 18   ┆ 45     ┆ 2013-09-30 22:00:00 UTC │\n",
              "│ 2013 ┆ 9     ┆ 30  ┆ 2235     ┆ … ┆ 944      ┆ 20   ┆ 1      ┆ 2013-10-01 00:00:00 UTC │\n",
              "└──────┴───────┴─────┴──────────┴───┴──────────┴──────┴────────┴─────────────────────────┘"
            ],
            "text/html": [
              "<div><style>\n",
              ".dataframe > thead > tr,\n",
              ".dataframe > tbody > tr {\n",
              "  text-align: right;\n",
              "  white-space: pre-wrap;\n",
              "}\n",
              "</style>\n",
              "<small>shape: (9_723, 19)</small><table border=\"1\" class=\"dataframe\"><thead><tr><th>year</th><th>month</th><th>day</th><th>dep_time</th><th>sched_dep_time</th><th>dep_delay</th><th>arr_time</th><th>sched_arr_time</th><th>arr_delay</th><th>carrier</th><th>flight</th><th>tailnum</th><th>origin</th><th>dest</th><th>air_time</th><th>distance</th><th>hour</th><th>minute</th><th>time_hour</th></tr><tr><td>i64</td><td>i64</td><td>i64</td><td>i64</td><td>i64</td><td>i64</td><td>i64</td><td>i64</td><td>i64</td><td>str</td><td>i64</td><td>str</td><td>str</td><td>str</td><td>i64</td><td>i64</td><td>i64</td><td>i64</td><td>datetime[μs, UTC]</td></tr></thead><tbody><tr><td>2013</td><td>1</td><td>1</td><td>848</td><td>1835</td><td>853</td><td>1001</td><td>1950</td><td>851</td><td>&quot;MQ&quot;</td><td>3944</td><td>&quot;N942MQ&quot;</td><td>&quot;JFK&quot;</td><td>&quot;BWI&quot;</td><td>41</td><td>184</td><td>18</td><td>35</td><td>2013-01-01 23:00:00 UTC</td></tr><tr><td>2013</td><td>1</td><td>1</td><td>957</td><td>733</td><td>144</td><td>1056</td><td>853</td><td>123</td><td>&quot;UA&quot;</td><td>856</td><td>&quot;N534UA&quot;</td><td>&quot;EWR&quot;</td><td>&quot;BOS&quot;</td><td>37</td><td>200</td><td>7</td><td>33</td><td>2013-01-01 12:00:00 UTC</td></tr><tr><td>2013</td><td>1</td><td>1</td><td>1114</td><td>900</td><td>134</td><td>1447</td><td>1222</td><td>145</td><td>&quot;UA&quot;</td><td>1086</td><td>&quot;N76502&quot;</td><td>&quot;LGA&quot;</td><td>&quot;IAH&quot;</td><td>248</td><td>1416</td><td>9</td><td>0</td><td>2013-01-01 14:00:00 UTC</td></tr><tr><td>2013</td><td>1</td><td>1</td><td>1540</td><td>1338</td><td>122</td><td>2020</td><td>1825</td><td>115</td><td>&quot;B6&quot;</td><td>705</td><td>&quot;N570JB&quot;</td><td>&quot;JFK&quot;</td><td>&quot;SJU&quot;</td><td>193</td><td>1598</td><td>13</td><td>38</td><td>2013-01-01 18:00:00 UTC</td></tr><tr><td>2013</td><td>1</td><td>1</td><td>1815</td><td>1325</td><td>290</td><td>2120</td><td>1542</td><td>338</td><td>&quot;EV&quot;</td><td>4417</td><td>&quot;N17185&quot;</td><td>&quot;EWR&quot;</td><td>&quot;OMA&quot;</td><td>213</td><td>1134</td><td>13</td><td>25</td><td>2013-01-01 18:00:00 UTC</td></tr><tr><td>&hellip;</td><td>&hellip;</td><td>&hellip;</td><td>&hellip;</td><td>&hellip;</td><td>&hellip;</td><td>&hellip;</td><td>&hellip;</td><td>&hellip;</td><td>&hellip;</td><td>&hellip;</td><td>&hellip;</td><td>&hellip;</td><td>&hellip;</td><td>&hellip;</td><td>&hellip;</td><td>&hellip;</td><td>&hellip;</td><td>&hellip;</td></tr><tr><td>2013</td><td>9</td><td>30</td><td>1823</td><td>1545</td><td>158</td><td>1934</td><td>1733</td><td>121</td><td>&quot;9E&quot;</td><td>3459</td><td>&quot;N916XJ&quot;</td><td>&quot;JFK&quot;</td><td>&quot;BNA&quot;</td><td>95</td><td>765</td><td>15</td><td>45</td><td>2013-09-30 19:00:00 UTC</td></tr><tr><td>2013</td><td>9</td><td>30</td><td>1951</td><td>1649</td><td>182</td><td>2157</td><td>1903</td><td>174</td><td>&quot;EV&quot;</td><td>4294</td><td>&quot;N13988&quot;</td><td>&quot;EWR&quot;</td><td>&quot;SAV&quot;</td><td>95</td><td>708</td><td>16</td><td>49</td><td>2013-09-30 20:00:00 UTC</td></tr><tr><td>2013</td><td>9</td><td>30</td><td>2053</td><td>1815</td><td>158</td><td>2310</td><td>2054</td><td>136</td><td>&quot;EV&quot;</td><td>5292</td><td>&quot;N600QX&quot;</td><td>&quot;EWR&quot;</td><td>&quot;ATL&quot;</td><td>91</td><td>746</td><td>18</td><td>15</td><td>2013-09-30 22:00:00 UTC</td></tr><tr><td>2013</td><td>9</td><td>30</td><td>2159</td><td>1845</td><td>194</td><td>2344</td><td>2030</td><td>194</td><td>&quot;9E&quot;</td><td>3320</td><td>&quot;N906XJ&quot;</td><td>&quot;JFK&quot;</td><td>&quot;BUF&quot;</td><td>50</td><td>301</td><td>18</td><td>45</td><td>2013-09-30 22:00:00 UTC</td></tr><tr><td>2013</td><td>9</td><td>30</td><td>2235</td><td>2001</td><td>154</td><td>59</td><td>2249</td><td>130</td><td>&quot;B6&quot;</td><td>1083</td><td>&quot;N804JB&quot;</td><td>&quot;JFK&quot;</td><td>&quot;MCO&quot;</td><td>123</td><td>944</td><td>20</td><td>1</td><td>2013-10-01 00:00:00 UTC</td></tr></tbody></table></div>"
            ]
          },
          "metadata": {},
          "execution_count": 4
        }
      ]
    },
    {
      "cell_type": "code",
      "source": [
        "#Exercise 2.1\n",
        "result = ctx.execute(\"\"\"\n",
        "SELECT origin, AVG(dep_delay) AS avg_dep_delay\n",
        "FROM flights\n",
        "GROUP BY origin\n",
        "ORDER BY avg_dep_delay DESC;\n",
        "\"\"\")\n",
        "\n",
        "result"
      ],
      "metadata": {
        "colab": {
          "base_uri": "https://localhost:8080/",
          "height": 190
        },
        "id": "u5dnYqtS964O",
        "outputId": "66b217be-c335-4cf2-97fc-0013e0a63e4c"
      },
      "execution_count": 5,
      "outputs": [
        {
          "output_type": "execute_result",
          "data": {
            "text/plain": [
              "shape: (3, 2)\n",
              "┌────────┬───────────────┐\n",
              "│ origin ┆ avg_dep_delay │\n",
              "│ ---    ┆ ---           │\n",
              "│ str    ┆ f64           │\n",
              "╞════════╪═══════════════╡\n",
              "│ EWR    ┆ 15.107954     │\n",
              "│ JFK    ┆ 12.112159     │\n",
              "│ LGA    ┆ 10.346876     │\n",
              "└────────┴───────────────┘"
            ],
            "text/html": [
              "<div><style>\n",
              ".dataframe > thead > tr,\n",
              ".dataframe > tbody > tr {\n",
              "  text-align: right;\n",
              "  white-space: pre-wrap;\n",
              "}\n",
              "</style>\n",
              "<small>shape: (3, 2)</small><table border=\"1\" class=\"dataframe\"><thead><tr><th>origin</th><th>avg_dep_delay</th></tr><tr><td>str</td><td>f64</td></tr></thead><tbody><tr><td>&quot;EWR&quot;</td><td>15.107954</td></tr><tr><td>&quot;JFK&quot;</td><td>12.112159</td></tr><tr><td>&quot;LGA&quot;</td><td>10.346876</td></tr></tbody></table></div>"
            ]
          },
          "metadata": {},
          "execution_count": 5
        }
      ]
    },
    {
      "cell_type": "code",
      "source": [
        "#Exercise 2.2\n",
        "result = ctx.execute(\"\"\"\n",
        "    SELECT *\n",
        "    FROM flights\n",
        "    LIMIT 5\n",
        "\"\"\")\n",
        "\n",
        "result = ctx.execute(\"\"\"\n",
        "select month, count(*) as count\n",
        "from flights\n",
        "group by month\n",
        "order by count desc\n",
        "\"\"\")\n",
        "\n",
        "result"
      ],
      "metadata": {
        "colab": {
          "base_uri": "https://localhost:8080/",
          "height": 438
        },
        "id": "E_Rc_jm9-1D4",
        "outputId": "72ce889e-b9ce-42c5-cdce-d897557b8433"
      },
      "execution_count": 6,
      "outputs": [
        {
          "output_type": "execute_result",
          "data": {
            "text/plain": [
              "shape: (12, 2)\n",
              "┌───────┬───────┐\n",
              "│ month ┆ count │\n",
              "│ ---   ┆ ---   │\n",
              "│ i64   ┆ u32   │\n",
              "╞═══════╪═══════╡\n",
              "│ 7     ┆ 29425 │\n",
              "│ 8     ┆ 29327 │\n",
              "│ 10    ┆ 28889 │\n",
              "│ 3     ┆ 28834 │\n",
              "│ 5     ┆ 28796 │\n",
              "│ …     ┆ …     │\n",
              "│ 12    ┆ 28135 │\n",
              "│ 9     ┆ 27574 │\n",
              "│ 11    ┆ 27268 │\n",
              "│ 1     ┆ 27004 │\n",
              "│ 2     ┆ 24951 │\n",
              "└───────┴───────┘"
            ],
            "text/html": [
              "<div><style>\n",
              ".dataframe > thead > tr,\n",
              ".dataframe > tbody > tr {\n",
              "  text-align: right;\n",
              "  white-space: pre-wrap;\n",
              "}\n",
              "</style>\n",
              "<small>shape: (12, 2)</small><table border=\"1\" class=\"dataframe\"><thead><tr><th>month</th><th>count</th></tr><tr><td>i64</td><td>u32</td></tr></thead><tbody><tr><td>7</td><td>29425</td></tr><tr><td>8</td><td>29327</td></tr><tr><td>10</td><td>28889</td></tr><tr><td>3</td><td>28834</td></tr><tr><td>5</td><td>28796</td></tr><tr><td>&hellip;</td><td>&hellip;</td></tr><tr><td>12</td><td>28135</td></tr><tr><td>9</td><td>27574</td></tr><tr><td>11</td><td>27268</td></tr><tr><td>1</td><td>27004</td></tr><tr><td>2</td><td>24951</td></tr></tbody></table></div>"
            ]
          },
          "metadata": {},
          "execution_count": 6
        }
      ]
    },
    {
      "cell_type": "code",
      "source": [
        "#Exercise 2.3\n",
        "result = ctx.execute(\"\"\"\n",
        "SELECT carrier, ROUND(\n",
        "        100.0 * SUM(CASE WHEN dep_delay <= 15 THEN 1 ELSE 0 END) / COUNT(*),\n",
        "        2\n",
        "    ) AS on_time_rate\n",
        "FROM flights\n",
        "GROUP BY carrier\n",
        "ORDER BY on_time_rate DESC;\n",
        "\"\"\")\n",
        "\n",
        "result"
      ],
      "metadata": {
        "colab": {
          "base_uri": "https://localhost:8080/",
          "height": 438
        },
        "id": "OCk7-IjXLBM4",
        "outputId": "a66ad74a-f7ce-412f-8232-5fb0650efda1"
      },
      "execution_count": 7,
      "outputs": [
        {
          "output_type": "execute_result",
          "data": {
            "text/plain": [
              "shape: (16, 2)\n",
              "┌─────────┬──────────────┐\n",
              "│ carrier ┆ on_time_rate │\n",
              "│ ---     ┆ ---          │\n",
              "│ str     ┆ f64          │\n",
              "╞═════════╪══════════════╡\n",
              "│ HA      ┆ 92.98        │\n",
              "│ AS      ┆ 86.55        │\n",
              "│ US      ┆ 84.99        │\n",
              "│ DL      ┆ 83.07        │\n",
              "│ AA      ┆ 82.44        │\n",
              "│ …       ┆ …            │\n",
              "│ FL      ┆ 71.69        │\n",
              "│ F9      ┆ 71.53        │\n",
              "│ 9E      ┆ 70.12        │\n",
              "│ EV      ┆ 65.92        │\n",
              "│ YV      ┆ 64.73        │\n",
              "└─────────┴──────────────┘"
            ],
            "text/html": [
              "<div><style>\n",
              ".dataframe > thead > tr,\n",
              ".dataframe > tbody > tr {\n",
              "  text-align: right;\n",
              "  white-space: pre-wrap;\n",
              "}\n",
              "</style>\n",
              "<small>shape: (16, 2)</small><table border=\"1\" class=\"dataframe\"><thead><tr><th>carrier</th><th>on_time_rate</th></tr><tr><td>str</td><td>f64</td></tr></thead><tbody><tr><td>&quot;HA&quot;</td><td>92.98</td></tr><tr><td>&quot;AS&quot;</td><td>86.55</td></tr><tr><td>&quot;US&quot;</td><td>84.99</td></tr><tr><td>&quot;DL&quot;</td><td>83.07</td></tr><tr><td>&quot;AA&quot;</td><td>82.44</td></tr><tr><td>&hellip;</td><td>&hellip;</td></tr><tr><td>&quot;FL&quot;</td><td>71.69</td></tr><tr><td>&quot;F9&quot;</td><td>71.53</td></tr><tr><td>&quot;9E&quot;</td><td>70.12</td></tr><tr><td>&quot;EV&quot;</td><td>65.92</td></tr><tr><td>&quot;YV&quot;</td><td>64.73</td></tr></tbody></table></div>"
            ]
          },
          "metadata": {},
          "execution_count": 7
        }
      ]
    },
    {
      "cell_type": "code",
      "source": [
        "#Exercise 3.1\n",
        "result = ctx.execute(\"\"\"\n",
        "SELECT\n",
        "    f.carrier,\n",
        "    a.name AS airline_name,\n",
        "    f.flight AS flight_number,\n",
        "    f.origin,\n",
        "    f.dest\n",
        "FROM flights f\n",
        "JOIN airlines a\n",
        "    ON f.carrier = a.carrier\n",
        "LIMIT 20;\n",
        "\"\"\")\n",
        "\n",
        "result"
      ],
      "metadata": {
        "colab": {
          "base_uri": "https://localhost:8080/",
          "height": 443
        },
        "id": "wf26I2iHLp_z",
        "outputId": "ce4dfa6e-b85d-4814-f265-92991894721b"
      },
      "execution_count": null,
      "outputs": [
        {
          "output_type": "execute_result",
          "data": {
            "text/plain": [
              "shape: (20, 5)\n",
              "┌─────────┬────────────────────────┬───────────────┬────────┬──────┐\n",
              "│ carrier ┆ airline_name           ┆ flight_number ┆ origin ┆ dest │\n",
              "│ ---     ┆ ---                    ┆ ---           ┆ ---    ┆ ---  │\n",
              "│ str     ┆ str                    ┆ i64           ┆ str    ┆ str  │\n",
              "╞═════════╪════════════════════════╪═══════════════╪════════╪══════╡\n",
              "│ UA      ┆ United Air Lines Inc.  ┆ 1545          ┆ EWR    ┆ IAH  │\n",
              "│ UA      ┆ United Air Lines Inc.  ┆ 1714          ┆ LGA    ┆ IAH  │\n",
              "│ AA      ┆ American Airlines Inc. ┆ 1141          ┆ JFK    ┆ MIA  │\n",
              "│ B6      ┆ JetBlue Airways        ┆ 725           ┆ JFK    ┆ BQN  │\n",
              "│ DL      ┆ Delta Air Lines Inc.   ┆ 461           ┆ LGA    ┆ ATL  │\n",
              "│ …       ┆ …                      ┆ …             ┆ …      ┆ …    │\n",
              "│ B6      ┆ JetBlue Airways        ┆ 1806          ┆ JFK    ┆ BOS  │\n",
              "│ UA      ┆ United Air Lines Inc.  ┆ 1187          ┆ EWR    ┆ LAS  │\n",
              "│ B6      ┆ JetBlue Airways        ┆ 371           ┆ LGA    ┆ FLL  │\n",
              "│ MQ      ┆ Envoy Air              ┆ 4650          ┆ LGA    ┆ ATL  │\n",
              "│ B6      ┆ JetBlue Airways        ┆ 343           ┆ EWR    ┆ PBI  │\n",
              "└─────────┴────────────────────────┴───────────────┴────────┴──────┘"
            ],
            "text/html": [
              "<div><style>\n",
              ".dataframe > thead > tr,\n",
              ".dataframe > tbody > tr {\n",
              "  text-align: right;\n",
              "  white-space: pre-wrap;\n",
              "}\n",
              "</style>\n",
              "<small>shape: (20, 5)</small><table border=\"1\" class=\"dataframe\"><thead><tr><th>carrier</th><th>airline_name</th><th>flight_number</th><th>origin</th><th>dest</th></tr><tr><td>str</td><td>str</td><td>i64</td><td>str</td><td>str</td></tr></thead><tbody><tr><td>&quot;UA&quot;</td><td>&quot;United Air Lines Inc.&quot;</td><td>1545</td><td>&quot;EWR&quot;</td><td>&quot;IAH&quot;</td></tr><tr><td>&quot;UA&quot;</td><td>&quot;United Air Lines Inc.&quot;</td><td>1714</td><td>&quot;LGA&quot;</td><td>&quot;IAH&quot;</td></tr><tr><td>&quot;AA&quot;</td><td>&quot;American Airlines Inc.&quot;</td><td>1141</td><td>&quot;JFK&quot;</td><td>&quot;MIA&quot;</td></tr><tr><td>&quot;B6&quot;</td><td>&quot;JetBlue Airways&quot;</td><td>725</td><td>&quot;JFK&quot;</td><td>&quot;BQN&quot;</td></tr><tr><td>&quot;DL&quot;</td><td>&quot;Delta Air Lines Inc.&quot;</td><td>461</td><td>&quot;LGA&quot;</td><td>&quot;ATL&quot;</td></tr><tr><td>&hellip;</td><td>&hellip;</td><td>&hellip;</td><td>&hellip;</td><td>&hellip;</td></tr><tr><td>&quot;B6&quot;</td><td>&quot;JetBlue Airways&quot;</td><td>1806</td><td>&quot;JFK&quot;</td><td>&quot;BOS&quot;</td></tr><tr><td>&quot;UA&quot;</td><td>&quot;United Air Lines Inc.&quot;</td><td>1187</td><td>&quot;EWR&quot;</td><td>&quot;LAS&quot;</td></tr><tr><td>&quot;B6&quot;</td><td>&quot;JetBlue Airways&quot;</td><td>371</td><td>&quot;LGA&quot;</td><td>&quot;FLL&quot;</td></tr><tr><td>&quot;MQ&quot;</td><td>&quot;Envoy Air&quot;</td><td>4650</td><td>&quot;LGA&quot;</td><td>&quot;ATL&quot;</td></tr><tr><td>&quot;B6&quot;</td><td>&quot;JetBlue Airways&quot;</td><td>343</td><td>&quot;EWR&quot;</td><td>&quot;PBI&quot;</td></tr></tbody></table></div>"
            ]
          },
          "metadata": {},
          "execution_count": 34
        }
      ]
    },
    {
      "cell_type": "code",
      "source": [
        "#Exercise 3.2\n",
        "result = ctx.execute(\"\"\"\n",
        "SELECT\n",
        "    f.carrier,\n",
        "    ROUND(AVG(2013 - p.year), 1) AS avg_plane_age\n",
        "FROM flights f\n",
        "JOIN planes p\n",
        "    ON f.tailnum = p.tailnum\n",
        "WHERE p.year IS NOT NULL\n",
        "GROUP BY f.carrier\n",
        "ORDER BY avg_plane_age DESC;\n",
        "\"\"\")\n",
        "\n",
        "result"
      ],
      "metadata": {
        "colab": {
          "base_uri": "https://localhost:8080/",
          "height": 438
        },
        "id": "rEJcDfxGMICV",
        "outputId": "9c049264-55b4-4466-e612-460e76e90f33"
      },
      "execution_count": 8,
      "outputs": [
        {
          "output_type": "execute_result",
          "data": {
            "text/plain": [
              "shape: (16, 2)\n",
              "┌─────────┬───────────────┐\n",
              "│ carrier ┆ avg_plane_age │\n",
              "│ ---     ┆ ---           │\n",
              "│ str     ┆ f64           │\n",
              "╞═════════╪═══════════════╡\n",
              "│ MQ      ┆ 35.3          │\n",
              "│ AA      ┆ 25.9          │\n",
              "│ DL      ┆ 16.4          │\n",
              "│ UA      ┆ 13.2          │\n",
              "│ FL      ┆ 11.4          │\n",
              "│ …       ┆ …             │\n",
              "│ B6      ┆ 6.7           │\n",
              "│ F9      ┆ 4.9           │\n",
              "│ VX      ┆ 4.5           │\n",
              "│ AS      ┆ 3.3           │\n",
              "│ HA      ┆ 1.5           │\n",
              "└─────────┴───────────────┘"
            ],
            "text/html": [
              "<div><style>\n",
              ".dataframe > thead > tr,\n",
              ".dataframe > tbody > tr {\n",
              "  text-align: right;\n",
              "  white-space: pre-wrap;\n",
              "}\n",
              "</style>\n",
              "<small>shape: (16, 2)</small><table border=\"1\" class=\"dataframe\"><thead><tr><th>carrier</th><th>avg_plane_age</th></tr><tr><td>str</td><td>f64</td></tr></thead><tbody><tr><td>&quot;MQ&quot;</td><td>35.3</td></tr><tr><td>&quot;AA&quot;</td><td>25.9</td></tr><tr><td>&quot;DL&quot;</td><td>16.4</td></tr><tr><td>&quot;UA&quot;</td><td>13.2</td></tr><tr><td>&quot;FL&quot;</td><td>11.4</td></tr><tr><td>&hellip;</td><td>&hellip;</td></tr><tr><td>&quot;B6&quot;</td><td>6.7</td></tr><tr><td>&quot;F9&quot;</td><td>4.9</td></tr><tr><td>&quot;VX&quot;</td><td>4.5</td></tr><tr><td>&quot;AS&quot;</td><td>3.3</td></tr><tr><td>&quot;HA&quot;</td><td>1.5</td></tr></tbody></table></div>"
            ]
          },
          "metadata": {},
          "execution_count": 8
        }
      ]
    },
    {
      "cell_type": "code",
      "source": [
        "#Exercise 3.3\n",
        "result = ctx.execute(\"\"\"\n",
        "    SELECT *\n",
        "    FROM weather\n",
        "    LIMIT 5\n",
        "\"\"\")\n",
        "result\n",
        "\n",
        "result = ctx.execute(\"\"\"\n",
        "SELECT\n",
        "    f.flight,\n",
        "    f.carrier,\n",
        "    f.origin,\n",
        "    f.dest,\n",
        "    f.dep_delay,\n",
        "    w.wind_speed,\n",
        "    w.precip\n",
        "FROM flights f\n",
        "JOIN weather w\n",
        "    ON f.origin = w.origin\n",
        "   AND f.year = w.year\n",
        "   AND f.month = w.month\n",
        "   AND f.day = w.day\n",
        "   AND f.hour = w.hour\n",
        "WHERE f.dep_delay > 30\n",
        "  AND (w.wind_speed > 20 OR w.precip > 0.1);\"\"\")\n",
        "\n",
        "result"
      ],
      "metadata": {
        "colab": {
          "base_uri": "https://localhost:8080/",
          "height": 438
        },
        "id": "jbsfPZqjMqy7",
        "outputId": "185964a5-4ba0-45be-bad5-4c3c09389553"
      },
      "execution_count": 9,
      "outputs": [
        {
          "output_type": "execute_result",
          "data": {
            "text/plain": [
              "shape: (4_938, 7)\n",
              "┌────────┬─────────┬────────┬──────┬───────────┬────────────┬────────┐\n",
              "│ flight ┆ carrier ┆ origin ┆ dest ┆ dep_delay ┆ wind_speed ┆ precip │\n",
              "│ ---    ┆ ---     ┆ ---    ┆ ---  ┆ ---       ┆ ---        ┆ ---    │\n",
              "│ i64    ┆ str     ┆ str    ┆ str  ┆ i64       ┆ f64        ┆ f64    │\n",
              "╞════════╪═════════╪════════╪══════╪═══════════╪════════════╪════════╡\n",
              "│ 21     ┆ B6      ┆ JFK    ┆ TPA  ┆ 47        ┆ 21.86482   ┆ 0.0    │\n",
              "│ 199    ┆ B6      ┆ JFK    ┆ LAS  ┆ 116       ┆ 21.86482   ┆ 0.0    │\n",
              "│ 4090   ┆ EV      ┆ EWR    ┆ JAX  ┆ 39        ┆ 20.71404   ┆ 0.0    │\n",
              "│ 4231   ┆ EV      ┆ EWR    ┆ IAD  ┆ 40        ┆ 24.16638   ┆ 0.0    │\n",
              "│ 1010   ┆ B6      ┆ JFK    ┆ BOS  ┆ 33        ┆ 20.71404   ┆ 0.0    │\n",
              "│ …      ┆ …       ┆ …      ┆ …    ┆ …         ┆ …          ┆ …      │\n",
              "│ 2347   ┆ DL      ┆ LGA    ┆ ATL  ┆ 41        ┆ 20.71404   ┆ 0.0    │\n",
              "│ 5503   ┆ EV      ┆ LGA    ┆ PIT  ┆ 97        ┆ 20.71404   ┆ 0.0    │\n",
              "│ 135    ┆ B6      ┆ JFK    ┆ PHX  ┆ 42        ┆ 21.86482   ┆ 0.0    │\n",
              "│ 797    ┆ UA      ┆ JFK    ┆ LAX  ┆ 46        ┆ 21.86482   ┆ 0.0    │\n",
              "│ 985    ┆ DL      ┆ JFK    ┆ BOS  ┆ 45        ┆ 21.86482   ┆ 0.0    │\n",
              "└────────┴─────────┴────────┴──────┴───────────┴────────────┴────────┘"
            ],
            "text/html": [
              "<div><style>\n",
              ".dataframe > thead > tr,\n",
              ".dataframe > tbody > tr {\n",
              "  text-align: right;\n",
              "  white-space: pre-wrap;\n",
              "}\n",
              "</style>\n",
              "<small>shape: (4_938, 7)</small><table border=\"1\" class=\"dataframe\"><thead><tr><th>flight</th><th>carrier</th><th>origin</th><th>dest</th><th>dep_delay</th><th>wind_speed</th><th>precip</th></tr><tr><td>i64</td><td>str</td><td>str</td><td>str</td><td>i64</td><td>f64</td><td>f64</td></tr></thead><tbody><tr><td>21</td><td>&quot;B6&quot;</td><td>&quot;JFK&quot;</td><td>&quot;TPA&quot;</td><td>47</td><td>21.86482</td><td>0.0</td></tr><tr><td>199</td><td>&quot;B6&quot;</td><td>&quot;JFK&quot;</td><td>&quot;LAS&quot;</td><td>116</td><td>21.86482</td><td>0.0</td></tr><tr><td>4090</td><td>&quot;EV&quot;</td><td>&quot;EWR&quot;</td><td>&quot;JAX&quot;</td><td>39</td><td>20.71404</td><td>0.0</td></tr><tr><td>4231</td><td>&quot;EV&quot;</td><td>&quot;EWR&quot;</td><td>&quot;IAD&quot;</td><td>40</td><td>24.16638</td><td>0.0</td></tr><tr><td>1010</td><td>&quot;B6&quot;</td><td>&quot;JFK&quot;</td><td>&quot;BOS&quot;</td><td>33</td><td>20.71404</td><td>0.0</td></tr><tr><td>&hellip;</td><td>&hellip;</td><td>&hellip;</td><td>&hellip;</td><td>&hellip;</td><td>&hellip;</td><td>&hellip;</td></tr><tr><td>2347</td><td>&quot;DL&quot;</td><td>&quot;LGA&quot;</td><td>&quot;ATL&quot;</td><td>41</td><td>20.71404</td><td>0.0</td></tr><tr><td>5503</td><td>&quot;EV&quot;</td><td>&quot;LGA&quot;</td><td>&quot;PIT&quot;</td><td>97</td><td>20.71404</td><td>0.0</td></tr><tr><td>135</td><td>&quot;B6&quot;</td><td>&quot;JFK&quot;</td><td>&quot;PHX&quot;</td><td>42</td><td>21.86482</td><td>0.0</td></tr><tr><td>797</td><td>&quot;UA&quot;</td><td>&quot;JFK&quot;</td><td>&quot;LAX&quot;</td><td>46</td><td>21.86482</td><td>0.0</td></tr><tr><td>985</td><td>&quot;DL&quot;</td><td>&quot;JFK&quot;</td><td>&quot;BOS&quot;</td><td>45</td><td>21.86482</td><td>0.0</td></tr></tbody></table></div>"
            ]
          },
          "metadata": {},
          "execution_count": 9
        }
      ]
    },
    {
      "cell_type": "code",
      "source": [
        "#Exercise 4.1\n",
        "result = ctx.execute(\"\"\"\n",
        "SELECT\n",
        "    p.manufacturer,\n",
        "    p.model,\n",
        "    COUNT(*) AS flight_count\n",
        "FROM flights f\n",
        "JOIN planes p\n",
        "    ON f.tailnum = p.tailnum\n",
        "WHERE p.manufacturer IS NOT NULL\n",
        "  AND p.model IS NOT NULL\n",
        "GROUP BY p.manufacturer, p.model\n",
        "ORDER BY flight_count DESC\n",
        "LIMIT 10\n",
        "\"\"\")\n",
        "\n",
        "result"
      ],
      "metadata": {
        "colab": {
          "base_uri": "https://localhost:8080/",
          "height": 407
        },
        "id": "Gp6LZmcWM_Tr",
        "outputId": "26874230-52be-4fe9-f6a5-df616034ff6d"
      },
      "execution_count": 10,
      "outputs": [
        {
          "output_type": "execute_result",
          "data": {
            "text/plain": [
              "shape: (10, 3)\n",
              "┌───────────────────────────────┬─────────────────┬──────────────┐\n",
              "│ manufacturer                  ┆ model           ┆ flight_count │\n",
              "│ ---                           ┆ ---             ┆ ---          │\n",
              "│ str                           ┆ str             ┆ u32          │\n",
              "╞═══════════════════════════════╪═════════════════╪══════════════╡\n",
              "│ AIRBUS                        ┆ A320-232        ┆ 31278        │\n",
              "│ EMBRAER                       ┆ EMB-145LR       ┆ 28027        │\n",
              "│ EMBRAER                       ┆ ERJ 190-100 IGW ┆ 23716        │\n",
              "│ AIRBUS INDUSTRIE              ┆ A320-232        ┆ 14553        │\n",
              "│ EMBRAER                       ┆ EMB-145XR       ┆ 14051        │\n",
              "│ BOEING                        ┆ 737-824         ┆ 13809        │\n",
              "│ BOMBARDIER INC                ┆ CL-600-2D24     ┆ 11807        │\n",
              "│ BOEING                        ┆ 737-7H4         ┆ 10389        │\n",
              "│ BOEING                        ┆ 757-222         ┆ 9150         │\n",
              "│ MCDONNELL DOUGLAS AIRCRAFT CO ┆ MD-88           ┆ 8932         │\n",
              "└───────────────────────────────┴─────────────────┴──────────────┘"
            ],
            "text/html": [
              "<div><style>\n",
              ".dataframe > thead > tr,\n",
              ".dataframe > tbody > tr {\n",
              "  text-align: right;\n",
              "  white-space: pre-wrap;\n",
              "}\n",
              "</style>\n",
              "<small>shape: (10, 3)</small><table border=\"1\" class=\"dataframe\"><thead><tr><th>manufacturer</th><th>model</th><th>flight_count</th></tr><tr><td>str</td><td>str</td><td>u32</td></tr></thead><tbody><tr><td>&quot;AIRBUS&quot;</td><td>&quot;A320-232&quot;</td><td>31278</td></tr><tr><td>&quot;EMBRAER&quot;</td><td>&quot;EMB-145LR&quot;</td><td>28027</td></tr><tr><td>&quot;EMBRAER&quot;</td><td>&quot;ERJ 190-100 IGW&quot;</td><td>23716</td></tr><tr><td>&quot;AIRBUS INDUSTRIE&quot;</td><td>&quot;A320-232&quot;</td><td>14553</td></tr><tr><td>&quot;EMBRAER&quot;</td><td>&quot;EMB-145XR&quot;</td><td>14051</td></tr><tr><td>&quot;BOEING&quot;</td><td>&quot;737-824&quot;</td><td>13809</td></tr><tr><td>&quot;BOMBARDIER INC&quot;</td><td>&quot;CL-600-2D24&quot;</td><td>11807</td></tr><tr><td>&quot;BOEING&quot;</td><td>&quot;737-7H4&quot;</td><td>10389</td></tr><tr><td>&quot;BOEING&quot;</td><td>&quot;757-222&quot;</td><td>9150</td></tr><tr><td>&quot;MCDONNELL DOUGLAS AIRCRAFT CO&quot;</td><td>&quot;MD-88&quot;</td><td>8932</td></tr></tbody></table></div>"
            ]
          },
          "metadata": {},
          "execution_count": 10
        }
      ]
    },
    {
      "cell_type": "code",
      "source": [
        "#Exercise 4.2\n",
        "result = ctx.execute(\"\"\"\n",
        "WITH FlightDetails AS (\n",
        "    SELECT\n",
        "        r.origin,\n",
        "        ao.name AS origin_airport,\n",
        "        r.dest,\n",
        "        ad.name AS dest_airport,\n",
        "        r.dep_delay\n",
        "    FROM flights r\n",
        "    JOIN airports ao ON r.origin = ao.faa\n",
        "    JOIN airports ad ON r.dest = ad.faa\n",
        ")\n",
        "SELECT\n",
        "    origin,\n",
        "    origin_airport,\n",
        "    dest,\n",
        "    dest_airport,\n",
        "    COUNT(*) AS total_flights,\n",
        "    ROUND(AVG(dep_delay), 2) AS avg_dep_delay,\n",
        "    ROUND(\n",
        "        100.0 * SUM(CASE WHEN dep_delay > 30 THEN 1 ELSE 0 END) / COUNT(*),\n",
        "        2\n",
        "    ) AS pct_delayed_over_30\n",
        "FROM FlightDetails\n",
        "GROUP BY origin, origin_airport, dest, dest_airport\n",
        "ORDER BY total_flights DESC\n",
        "LIMIT 10\n",
        "\"\"\")\n",
        "\n",
        "result"
      ],
      "metadata": {
        "colab": {
          "base_uri": "https://localhost:8080/",
          "height": 407
        },
        "id": "ADw3mTyYNKHl",
        "outputId": "ade45bd2-9604-4b50-ec50-835b529b82d8"
      },
      "execution_count": 11,
      "outputs": [
        {
          "output_type": "execute_result",
          "data": {
            "text/plain": [
              "shape: (10, 7)\n",
              "┌────────┬────────────────┬──────┬────────────────┬───────────────┬───────────────┬────────────────┐\n",
              "│ origin ┆ origin_airport ┆ dest ┆ dest_airport   ┆ total_flights ┆ avg_dep_delay ┆ pct_delayed_ov │\n",
              "│ ---    ┆ ---            ┆ ---  ┆ ---            ┆ ---           ┆ ---           ┆ er_30          │\n",
              "│ str    ┆ str            ┆ str  ┆ str            ┆ u32           ┆ f64           ┆ ---            │\n",
              "│        ┆                ┆      ┆                ┆               ┆               ┆ f64            │\n",
              "╞════════╪════════════════╪══════╪════════════════╪═══════════════╪═══════════════╪════════════════╡\n",
              "│ JFK    ┆ John F Kennedy ┆ LAX  ┆ Los Angeles    ┆ 11262         ┆ 8.52          ┆ 9.83           │\n",
              "│        ┆ Intl           ┆      ┆ Intl           ┆               ┆               ┆                │\n",
              "│ LGA    ┆ La Guardia     ┆ ATL  ┆ Hartsfield     ┆ 10263         ┆ 11.45         ┆ 12.25          │\n",
              "│        ┆                ┆      ┆ Jackson        ┆               ┆               ┆                │\n",
              "│        ┆                ┆      ┆ Atlanta Int…   ┆               ┆               ┆                │\n",
              "│ LGA    ┆ La Guardia     ┆ ORD  ┆ Chicago Ohare  ┆ 8857          ┆ 10.74         ┆ 13.35          │\n",
              "│        ┆                ┆      ┆ Intl           ┆               ┆               ┆                │\n",
              "│ JFK    ┆ John F Kennedy ┆ SFO  ┆ San Francisco  ┆ 8204          ┆ 11.95         ┆ 12.12          │\n",
              "│        ┆ Intl           ┆      ┆ Intl           ┆               ┆               ┆                │\n",
              "│ LGA    ┆ La Guardia     ┆ CLT  ┆ Charlotte      ┆ 6168          ┆ 8.97          ┆ 11.95          │\n",
              "│        ┆                ┆      ┆ Douglas Intl   ┆               ┆               ┆                │\n",
              "│ EWR    ┆ Newark Liberty ┆ ORD  ┆ Chicago Ohare  ┆ 6100          ┆ 14.64         ┆ 16.0           │\n",
              "│        ┆ Intl           ┆      ┆ Intl           ┆               ┆               ┆                │\n",
              "│ JFK    ┆ John F Kennedy ┆ BOS  ┆ General Edward ┆ 5898          ┆ 11.69         ┆ 13.77          │\n",
              "│        ┆ Intl           ┆      ┆ Lawrence Logan ┆               ┆               ┆                │\n",
              "│        ┆                ┆      ┆ …              ┆               ┆               ┆                │\n",
              "│ LGA    ┆ La Guardia     ┆ MIA  ┆ Miami Intl     ┆ 5781          ┆ 7.36          ┆ 9.46           │\n",
              "│ JFK    ┆ John F Kennedy ┆ MCO  ┆ Orlando Intl   ┆ 5464          ┆ 10.6          ┆ 12.72          │\n",
              "│        ┆ Intl           ┆      ┆                ┆               ┆               ┆                │\n",
              "│ EWR    ┆ Newark Liberty ┆ BOS  ┆ General Edward ┆ 5327          ┆ 12.55         ┆ 14.91          │\n",
              "│        ┆ Intl           ┆      ┆ Lawrence Logan ┆               ┆               ┆                │\n",
              "│        ┆                ┆      ┆ …              ┆               ┆               ┆                │\n",
              "└────────┴────────────────┴──────┴────────────────┴───────────────┴───────────────┴────────────────┘"
            ],
            "text/html": [
              "<div><style>\n",
              ".dataframe > thead > tr,\n",
              ".dataframe > tbody > tr {\n",
              "  text-align: right;\n",
              "  white-space: pre-wrap;\n",
              "}\n",
              "</style>\n",
              "<small>shape: (10, 7)</small><table border=\"1\" class=\"dataframe\"><thead><tr><th>origin</th><th>origin_airport</th><th>dest</th><th>dest_airport</th><th>total_flights</th><th>avg_dep_delay</th><th>pct_delayed_over_30</th></tr><tr><td>str</td><td>str</td><td>str</td><td>str</td><td>u32</td><td>f64</td><td>f64</td></tr></thead><tbody><tr><td>&quot;JFK&quot;</td><td>&quot;John F Kennedy Intl&quot;</td><td>&quot;LAX&quot;</td><td>&quot;Los Angeles Intl&quot;</td><td>11262</td><td>8.52</td><td>9.83</td></tr><tr><td>&quot;LGA&quot;</td><td>&quot;La Guardia&quot;</td><td>&quot;ATL&quot;</td><td>&quot;Hartsfield Jackson Atlanta Int…</td><td>10263</td><td>11.45</td><td>12.25</td></tr><tr><td>&quot;LGA&quot;</td><td>&quot;La Guardia&quot;</td><td>&quot;ORD&quot;</td><td>&quot;Chicago Ohare Intl&quot;</td><td>8857</td><td>10.74</td><td>13.35</td></tr><tr><td>&quot;JFK&quot;</td><td>&quot;John F Kennedy Intl&quot;</td><td>&quot;SFO&quot;</td><td>&quot;San Francisco Intl&quot;</td><td>8204</td><td>11.95</td><td>12.12</td></tr><tr><td>&quot;LGA&quot;</td><td>&quot;La Guardia&quot;</td><td>&quot;CLT&quot;</td><td>&quot;Charlotte Douglas Intl&quot;</td><td>6168</td><td>8.97</td><td>11.95</td></tr><tr><td>&quot;EWR&quot;</td><td>&quot;Newark Liberty Intl&quot;</td><td>&quot;ORD&quot;</td><td>&quot;Chicago Ohare Intl&quot;</td><td>6100</td><td>14.64</td><td>16.0</td></tr><tr><td>&quot;JFK&quot;</td><td>&quot;John F Kennedy Intl&quot;</td><td>&quot;BOS&quot;</td><td>&quot;General Edward Lawrence Logan …</td><td>5898</td><td>11.69</td><td>13.77</td></tr><tr><td>&quot;LGA&quot;</td><td>&quot;La Guardia&quot;</td><td>&quot;MIA&quot;</td><td>&quot;Miami Intl&quot;</td><td>5781</td><td>7.36</td><td>9.46</td></tr><tr><td>&quot;JFK&quot;</td><td>&quot;John F Kennedy Intl&quot;</td><td>&quot;MCO&quot;</td><td>&quot;Orlando Intl&quot;</td><td>5464</td><td>10.6</td><td>12.72</td></tr><tr><td>&quot;EWR&quot;</td><td>&quot;Newark Liberty Intl&quot;</td><td>&quot;BOS&quot;</td><td>&quot;General Edward Lawrence Logan …</td><td>5327</td><td>12.55</td><td>14.91</td></tr></tbody></table></div>"
            ]
          },
          "metadata": {},
          "execution_count": 11
        }
      ]
    }
  ]
}